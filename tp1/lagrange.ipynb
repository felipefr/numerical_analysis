{
 "cells": [
  {
   "cell_type": "code",
   "execution_count": 3,
   "metadata": {
    "metadata": {}
   },
   "outputs": [],
   "source": [
    "import numpy as np\n",
    "import matplotlib.pyplot as plt"
   ]
  },
  {
   "cell_type": "markdown",
   "metadata": {},
   "source": [
    "**1) Base de Lagrange**\n",
    "\n",
    "Dans votre rapport:\n",
    "- Afficher les figures pour les bases de Lagrange de degrées 1, 2 et 3 (2, 3 et 4 noueds)."
   ]
  },
  {
   "cell_type": "code",
   "execution_count": null,
   "metadata": {
    "metadata": {}
   },
   "outputs": [],
   "source": [
    "def base_lagrange(i,Xi,X):\n",
    "    Li = 1.\n",
    "    for j in range(len(Xi)):\n",
    "        if j != i:\n",
    "            Li *= (X-Xi[j])/(Xi[i]-Xi[j])\n",
    "\n",
    "    return Li \n",
    "\n",
    "\n",
    "x = np.linspace(0.0, 1.0, 100)\n",
    "x_nodes = np.array([0.,0.5,1.0])\n",
    "\n",
    "for i in range(3):\n",
    "    plt.plot(x, base_lagrange(i, x_nodes,x), label= 'L{0}'.format(i))\n",
    "plt.grid()\n",
    "plt.xlabel('x')\n",
    "plt.ylabel('y')\n",
    "plt.legend()"
   ]
  },
  {
   "cell_type": "markdown",
   "metadata": {},
   "source": [
    "**2) Interpolation de Lagrange**\n",
    "\n",
    "Votre rapport devra contenir:\n",
    "- Une figure d'exemple d'une interpolation ayant 6 noueds de collocations, y(x) étant donné par une fonction mathématique de votre préférence. Pour cela, remplacez y_nodes par l'application de cette fonction mathématique sous x_nodes. N'oubliez de labelliser vos axes, contruire une légende et un titre avec l'expression de la fonction choisi par exemple."
   ]
  },
  {
   "cell_type": "code",
   "execution_count": null,
   "metadata": {
    "metadata": {}
   },
   "outputs": [],
   "source": [
    "def lagrange_poly(Xi,Yi,X):\n",
    "    p = 0.\n",
    "    for i in range(len(Xi)):\n",
    "        Li = base_lagrange(i,Xi,X)\n",
    "        p += Yi[i]*Li\n",
    "\n",
    "    return p\n",
    "\n",
    "# la keyword class permets de construire une classe (équivalent à Struct en MATLAB, Type en FORTRAN, etc)\n",
    "# La méthode __init__ permets d'initaliser l'objet de la classe. Elle sera appellé quand nom de la classe est utilisé\n",
    "class LagrangePoly:\n",
    "    def __init__(self, Xi, Yi):\n",
    "        self.deg = len(Xi)-1\n",
    "        self.Xi = Xi\n",
    "        self.Yi = Yi\n",
    "\n",
    "    def __call__(self, x):\n",
    "        return lagrange_poly(self.Xi,self.Yi,x)\n",
    "\n",
    "# Test    \n",
    "x = np.linspace(0.0,3.0, 100)\n",
    "x_nodes = np.array([0.,1.0,3.0])\n",
    "y_nodes = np.array([1.0,5.0,3.0])\n",
    "p = LagrangePoly(x_nodes,y_nodes)\n",
    "plt.plot(x,p(x))\n",
    "plt.plot(x_nodes, y_nodes, 'o')\n",
    "plt.grid()"
   ]
  },
  {
   "cell_type": "markdown",
   "metadata": {},
   "source": [
    "**3) Etude d'erreur de l'interpolation donné par un fichier externe**\n",
    "\n",
    "Le votre rapport devra contenir pour chaque fichier de données (Data1.txt, Data2.txt, Data3.txt)\n",
    "- a) Une figure affichant les donnés et les fonctions d'interpolation pour un certain range de nombre de noeuds (choisi par vous-même)\n",
    "- b) Une figure d'erreur en fonction du nombre de noeuds. En particulier, vous devez choisir un nombre de noueds maximal qui vous permettra de voir la degradation des erreurs quand le nombre de noeuds est grand (pourqoui?). La figure a) doit être dans la même plage de noueds que b). "
   ]
  },
  {
   "cell_type": "markdown",
   "metadata": {},
   "source": [
    "\n",
    "D'abord on va lire les données stockées dans un fichier"
   ]
  },
  {
   "cell_type": "code",
   "execution_count": null,
   "metadata": {
    "metadata": {}
   },
   "outputs": [],
   "source": [
    "XY = np.loadtxt('Data1.txt')\n",
    "\n",
    "# figure\n",
    "plt.title(\"Données\")\n",
    "plt.plot(XY[:,0],XY[:,1],'.')\n",
    "plt.xlabel('x')\n",
    "plt.ylabel('y')"
   ]
  },
  {
   "cell_type": "markdown",
   "metadata": {},
   "source": [
    "Ensuite, on va stocker les polynômes d'interpolation dans une liste"
   ]
  },
  {
   "cell_type": "code",
   "execution_count": 28,
   "metadata": {
    "metadata": {}
   },
   "outputs": [],
   "source": [
    "min_nodes = 3\n",
    "max_nodes = 15\n",
    "poly_list = []\n",
    "\n",
    "for k in range(min_nodes,max_nodes+1,2):\n",
    "    ii = np.linspace(0,len(XY)-1,k).astype('int')            # Position of the nodes in the data vector\n",
    "    XYii=XY[ii,:]    # XY values of the nodes\n",
    "    poly_list.append(LagrangePoly(XYii[:,0],XYii[:,1]))"
   ]
  },
  {
   "cell_type": "markdown",
   "metadata": {},
   "source": [
    "On affiche les polynômes de interpolation"
   ]
  },
  {
   "cell_type": "code",
   "execution_count": null,
   "metadata": {
    "metadata": {}
   },
   "outputs": [],
   "source": [
    "x = np.linspace(np.min(XY[:,0]), np.max(XY[:,0]), 100)\n",
    "\n",
    "for p in poly_list:\n",
    "    plt.plot(x,p(x), label = 'p{0}'.format(p.deg))\n",
    "\n",
    "plt.plot(XY[:,0],XY[:,1], '.', label = 'données')\n",
    "plt.legend(loc='best')\n",
    "plt.grid()\n",
    "# plt.savefig(nom de la figure)"
   ]
  },
  {
   "cell_type": "markdown",
   "metadata": {},
   "source": [
    "On calcule et affiche les erreurs absolus commits"
   ]
  },
  {
   "cell_type": "code",
   "execution_count": null,
   "metadata": {
    "metadata": {}
   },
   "outputs": [],
   "source": [
    "error = []\n",
    "for p in poly_list:\n",
    "    error.append(np.linalg.norm(p(XY[:,0]) - XY[:,1]))\n",
    "\n",
    "plt.plot([p.deg for p in poly_list], error, '-o')\n",
    "plt.ylabel('erreur')\n",
    "plt.yscale('log')\n",
    "plt.xlabel('degrée polynôme')\n",
    "plt.grid()"
   ]
  },
  {
   "cell_type": "markdown",
   "metadata": {},
   "source": [
    "**4) Noeuds de Chebyshev**\n",
    "\n",
    "Dans l'intervale $[a,b]$ les noueds de Chebyshev sont définis par:\n",
    "$$ x_j = \\frac{b-a}{2}\\cos(\\frac{\\pi(2j+1)}{2N})+\\frac{a+b}{2}, \\quad j=0,1, \\dots, N-1 .$$\n",
    "\n",
    "Pour le rapport vous devez:\n",
    "- Programmer la fonction chebyshev_nodes(a,b,N) que retourne un np.array contenant les noeuds de Chebyshev (au-dessous). Utilisez np.sort pour avoir une ordre croissant des points.\n",
    "- Faire les mêmes analyses de 3) pour le Data2.txt en utilisant ces nouveaux noeuds. "
   ]
  },
  {
   "cell_type": "code",
   "execution_count": null,
   "metadata": {
    "metadata": {}
   },
   "outputs": [],
   "source": [
    "def chebyshev_nodes(a,b,N):\n",
    "    # complétez\n",
    "    return Xi\n",
    "\n",
    "# Test\n",
    "print(chebyshev_nodes(-1.0,1.0,9))"
   ]
  },
  {
   "cell_type": "markdown",
   "metadata": {},
   "source": [
    "Comme les noueds de Chebyshev ne seront pas exactement les mêmes disponibles dans le fichier de donnée, la fonction suivant retourne les indexes $i$ du vecteur $\\bf x$ tels que $x_i$ est le plus proche d'un certain noeud de Chebyshev   "
   ]
  },
  {
   "cell_type": "code",
   "execution_count": 38,
   "metadata": {
    "metadata": {}
   },
   "outputs": [],
   "source": [
    "def closest_nodes_index(nodes, x):\n",
    "    ii = []\n",
    "    for xi in nodes:\n",
    "        ii.append(np.argmin(np.abs(x-xi)))\n",
    "\n",
    "    return np.array(ii) "
   ]
  },
  {
   "cell_type": "code",
   "execution_count": 44,
   "metadata": {
    "metadata": {}
   },
   "outputs": [],
   "source": [
    "min_nodes = 3\n",
    "max_nodes = 30\n",
    "poly_list = []\n",
    "\n",
    "for k in range(min_nodes,max_nodes+1,2):\n",
    "    cheb_nodes = chebyshev_nodes(np.min(XY[:,0]), np.max(XY[:,0]), k)  # Position of the nodes in the data vector\n",
    "    ii = closest_nodes_index(cheb_nodes, XY[:,0])\n",
    "    XYii=XY[ii,:]    # XY values of the nodes\n",
    "    poly_list.append(LagrangePoly(XYii[:,0],XYii[:,1]))"
   ]
  },
  {
   "cell_type": "code",
   "execution_count": null,
   "metadata": {
    "metadata": {}
   },
   "outputs": [],
   "source": [
    "error = []\n",
    "for p in poly_list:\n",
    "    error.append(np.linalg.norm(p(XY[:,0]) - XY[:,1]))\n",
    "\n",
    "plt.plot([p.deg for p in poly_list], error, '-o')\n",
    "plt.ylabel('erreur')\n",
    "plt.yscale('log')\n",
    "plt.xlabel('degrée polynôme')\n",
    "plt.grid()"
   ]
  },
  {
   "cell_type": "code",
   "execution_count": null,
   "metadata": {
    "metadata": {}
   },
   "outputs": [],
   "source": [
    "x = np.linspace(np.min(XY[:,0]), np.max(XY[:,0]), 100)\n",
    "\n",
    "for p in poly_list:\n",
    "    plt.plot(x,p(x), label = 'p{0}'.format(p.deg))\n",
    "\n",
    "plt.plot(XY[:,0],XY[:,1], '.', label = 'données')\n",
    "plt.legend(loc='best')\n",
    "plt.grid()"
   ]
  },
  {
   "cell_type": "markdown",
   "metadata": {},
   "source": [
    "**5) Travail supplémentaire**\n",
    "\n",
    "Remplacez le Data2.txt par la fonction de Runge $f(x) = \\frac{1}{1+25 x^2}$. Maintenant les noeuds pourront être echantionnés de façon exacte. Qu'est-ce que ce passe avec les erreurs de 4)?"
   ]
  }
 ],
 "metadata": {
  "kernelspec": {
   "display_name": "fenicsx-env",
   "language": "python",
   "name": "python3"
  },
  "language_info": {
   "codemirror_mode": {
    "name": "ipython",
    "version": 3
   },
   "file_extension": ".py",
   "mimetype": "text/x-python",
   "name": "python",
   "nbconvert_exporter": "python",
   "pygments_lexer": "ipython3",
   "version": "3.12.2"
  }
 },
 "nbformat": 4,
 "nbformat_minor": 2
}
