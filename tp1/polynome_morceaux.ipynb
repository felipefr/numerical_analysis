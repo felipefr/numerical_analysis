{
 "cells": [
  {
   "cell_type": "code",
   "execution_count": 3,
   "metadata": {
    "metadata": {}
   },
   "outputs": [],
   "source": [
    "import numpy as np\n",
    "import matplotlib.pyplot as plt"
   ]
  },
  {
   "cell_type": "markdown",
   "metadata": {},
   "source": [
    "**1)Base Spline d'ordre un (fonction chapeau)**\n",
    "Dans votre rapport:\n",
    "- Afficher l'ensemble de 6 fonctions de base"
   ]
  },
  {
   "cell_type": "code",
   "execution_count": null,
   "metadata": {
    "metadata": {}
   },
   "outputs": [],
   "source": [
    "def hat(xl,xr,xi,x):\n",
    "    if x>xr or x<xl:\n",
    "        return 0.\n",
    "    elif x>=xl and x<xi:\n",
    "        return (x-xl)/(xi-xl)\n",
    "    elif x>xi and x<=xr: \n",
    "        return (x-xr)/(xi-xr)\n",
    "    else:\n",
    "        return 1.0\n",
    "\n",
    "\n",
    "def base_spline1(i,Xi,X):\n",
    "    xl = Xi[max(0,i-1)]\n",
    "    xi = Xi[i]\n",
    "    xr = Xi[min(len(Xi)-1,i+1)]\n",
    "    return np.array([hat(xl,xr,xi,x) for x in X])\n",
    "\n",
    "\n",
    "# test\n",
    "x = np.linspace(0.0, 1.0, 100)\n",
    "x_nodes = np.array([0.,0.25,0.5,0.75,1.0])\n",
    "\n",
    "for i in range(5):\n",
    "    plt.plot(x, base_spline1(i, x_nodes,x), label= 's{0}'.format(i))\n",
    "plt.grid()\n",
    "plt.xlabel('x')\n",
    "plt.ylabel('y')\n",
    "plt.legend()"
   ]
  },
  {
   "cell_type": "markdown",
   "metadata": {},
   "source": [
    "**2) Interpolation par morceaux (spline linéaire)**\n",
    "Dans votre rapport:\n",
    "- Refaire l'exemple choisi de la partie d'interpolation de Lagrange, maintenant avec spline"
   ]
  },
  {
   "cell_type": "code",
   "execution_count": null,
   "metadata": {
    "metadata": {}
   },
   "outputs": [],
   "source": [
    "def interp_spline1(Xi,Yi,X):\n",
    "    p = 0.\n",
    "    for i in range(len(Xi)):\n",
    "        si = base_spline1(i,Xi,X)\n",
    "        p += Yi[i]*si\n",
    "\n",
    "    return p\n",
    "\n",
    "class InterpSpline1:\n",
    "    def __init__(self, Xi, Yi):\n",
    "        self.nsplit = len(Xi)-1\n",
    "        self.Xi = Xi\n",
    "        self.Yi = Yi\n",
    "\n",
    "    def __call__(self, x):\n",
    "        return interp_spline1(self.Xi,self.Yi,x)\n",
    "\n",
    "# Test    \n",
    "x = np.linspace(0.0,3.0, 100)\n",
    "x_nodes = np.array([0.,1.0,2.0,3.0])\n",
    "y_nodes = np.array([1.0,1.5,3.0,3.5])\n",
    "p = InterpSpline1(x_nodes,y_nodes)\n",
    "plt.plot(x,p(x))\n",
    "plt.plot(x_nodes, y_nodes, 'o')\n",
    "plt.grid()"
   ]
  },
  {
   "cell_type": "markdown",
   "metadata": {},
   "source": [
    "**3) Etude d'erreur de l'interpolation donné par un fichier externe**\n",
    "\n",
    "Le votre rapport devra contenir pour chaque fichier de données (Data1.txt, Data2.txt, Data3.txt)\n",
    "- a) Une figure affichant les donnés et les fonctions d'interpolation pour un certain range de nombre de noeuds (choisi par vous-même)\n",
    "- b) Une figure d'erreur en fonction du nombre de noeuds. La figure a) doit être dans la même plage de noueds que b). "
   ]
  },
  {
   "cell_type": "markdown",
   "metadata": {},
   "source": [
    "\n",
    "D'abord on va lire les données stockées dans un fichier"
   ]
  },
  {
   "cell_type": "code",
   "execution_count": null,
   "metadata": {
    "metadata": {}
   },
   "outputs": [],
   "source": [
    "# Load all the data\n",
    "XY = np.loadtxt('Data1.txt')\n",
    "\n",
    "# figure\n",
    "plt.title(\"Données\")\n",
    "plt.plot(XY[:,0],XY[:,1],'.')\n",
    "plt.xlabel('x')\n",
    "plt.ylabel('y')"
   ]
  },
  {
   "cell_type": "code",
   "execution_count": 62,
   "metadata": {
    "metadata": {}
   },
   "outputs": [],
   "source": [
    "min_nodes = 3\n",
    "max_nodes = 20\n",
    "poly_list = []\n",
    "\n",
    "for k in range(min_nodes,max_nodes+1,2):\n",
    "    ii = np.linspace(0,len(XY)-1,k).astype('int')            # Position of the nodes in the data vector\n",
    "    XYii=XY[ii,:]    # XY values of the nodes\n",
    "    poly_list.append(InterpSpline1(XYii[:,0],XYii[:,1]))"
   ]
  },
  {
   "cell_type": "markdown",
   "metadata": {},
   "source": [
    "Ensuite, on va stocker les polynômes d'interpolation dans une liste"
   ]
  },
  {
   "cell_type": "code",
   "execution_count": null,
   "metadata": {
    "metadata": {}
   },
   "outputs": [],
   "source": [
    "x = np.linspace(np.min(XY[:,0]), np.max(XY[:,0]), 100)\n",
    "\n",
    "for p in poly_list:\n",
    "    plt.plot(x,p(x), label = 's{0}'.format(p.nsplit))\n",
    "\n",
    "plt.plot(XY[:,0],XY[:,1], '.', label = 'données')\n",
    "plt.legend(loc='best')\n",
    "plt.grid()\n"
   ]
  },
  {
   "cell_type": "markdown",
   "metadata": {},
   "source": [
    "On affiche les polynômes de interpolation"
   ]
  },
  {
   "cell_type": "code",
   "execution_count": null,
   "metadata": {
    "metadata": {}
   },
   "outputs": [],
   "source": [
    "error = []\n",
    "for p in poly_list:\n",
    "    error.append(np.linalg.norm(p(XY[:,0]) - XY[:,1]))\n",
    "\n",
    "plt.plot([p.nsplit for p in poly_list], error, '-o')\n",
    "plt.ylabel('erreur')\n",
    "plt.xlabel('nombre de divisions')\n",
    "plt.yscale('log')\n",
    "plt.grid()\n",
    "\n",
    "print(error)"
   ]
  },
  {
   "cell_type": "markdown",
   "metadata": {},
   "source": [
    "**4) Analyse de la convergence** "
   ]
  },
  {
   "cell_type": "markdown",
   "metadata": {},
   "source": [
    "On a vu en cours que l'erreur d'interpolation est donné par\n",
    "$$\n",
    "e_h \\leq C h^{\\alpha},\n",
    "$$\n",
    "où $h = \\frac{b-a}{N-1}$ est la longueur caracteristique de la discretisation pour les divisions équidistants dans l'intervale $[a,b]$, avec $N$ nombre de noueds.\n",
    "\n",
    "Dans votre rapport vous devez déterminer $C$ et $\\alpha$ numériquement. Il faut noter que ces constants peuvent varier pour chaque pair de points, par contre ces variations devront être négligeables a partir d'un certain $h$ minimum. Pour cette analyse vous devez:\n",
    "- Tracer la courbe erreur $\\times h$ en échelle logarithmique.\n",
    "- Créer un tableau où chaque ligne $i$ avec des valeurs $C_i$ et $\\alpha_i$ correspondant aux valeur obtenus entre $h_i$ et $h_{i+1}$.  "
   ]
  },
  {
   "cell_type": "markdown",
   "metadata": {},
   "source": []
  },
  {
   "cell_type": "markdown",
   "metadata": {},
   "source": []
  }
 ],
 "metadata": {
  "kernelspec": {
   "display_name": "fenicsx-env",
   "language": "python",
   "name": "python3"
  },
  "language_info": {
   "codemirror_mode": {
    "name": "ipython",
    "version": 3
   },
   "file_extension": ".py",
   "mimetype": "text/x-python",
   "name": "python",
   "nbconvert_exporter": "python",
   "pygments_lexer": "ipython3",
   "version": "3.12.2"
  }
 },
 "nbformat": 4,
 "nbformat_minor": 2
}
