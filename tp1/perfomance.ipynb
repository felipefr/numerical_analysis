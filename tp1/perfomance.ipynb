{
 "cells": [
  {
   "cell_type": "code",
   "execution_count": 1,
   "metadata": {
    "metadata": {}
   },
   "outputs": [],
   "source": [
    "import numpy as np\n",
    "import matplotlib.pyplot as plt"
   ]
  },
  {
   "cell_type": "markdown",
   "metadata": {},
   "source": [
    "**Analyse de performance d'autres méthodes d'interpolation polynômiale** \n",
    "\n",
    "On a vu en cours deux d'autres méthodes (équivalents en précision infinie) pour l'interpolation polynômiale:\n",
    "- i) Naïf: résolution d'un système linéaire type matrice de Vandermonde\n",
    "- ii) Newton: par la méthode de différences finies de Newton \n",
    "\n",
    "Dans votre rapport vous devez implémenter une des ces deux méthodes (ou les deux si vous êtes motivé). La démarche à suivre est la suivante:\n",
    "- L'implementation suivant le modèle qu'on a utilisé pour l'interpolation de Lagrange (repeté ci-dessous), en définissant par exemple la classe NaifPoly et/ou NewtonPoly. \n",
    "- Comparaison de temps de calcul (avec un nombre de noeuds conséquent) en utilisant la fonction timer() de la librarie timeit (voir modèle ci-dessous)\n",
    "- Discuter les avantages et incovénients de chaque méthode. \n",
    "- Si vous avez choisi la méthode Naïf, déterminer aussi à partir de quel nombre de noeuds l'interpolation se dégrade, c'est-à-dire, quand le de nombre de condition de la matrice de Vandermonde est grande (utilisez np.linalg.cond)."
   ]
  },
  {
   "cell_type": "code",
   "execution_count": 3,
   "metadata": {
    "metadata": {}
   },
   "outputs": [],
   "source": [
    "def base_lagrange(i,Xi,X):\n",
    "    Li = 1.\n",
    "    for j in range(len(Xi)):\n",
    "        if j != i:\n",
    "            Li *= (X-Xi[j])/(Xi[i]-Xi[j])\n",
    "\n",
    "    return Li \n",
    "\n",
    "def lagrange_poly(Xi,Yi,X):\n",
    "    p = 0.\n",
    "    for i in range(len(Xi)):\n",
    "        Li = base_lagrange(i,Xi,X)\n",
    "        p += Yi[i]*Li\n",
    "\n",
    "    return p\n",
    "\n",
    "class LagrangePoly:\n",
    "    def __init__(self, Xi, Yi):\n",
    "        self.deg = len(Xi)-1\n",
    "        self.Xi = Xi\n",
    "        self.Yi = Yi\n",
    "\n",
    "    def __call__(self, x):\n",
    "        return lagrange_poly(self.Xi,self.Yi,x)"
   ]
  },
  {
   "cell_type": "markdown",
   "metadata": {},
   "source": [
    "Modèle pour les classes"
   ]
  },
  {
   "cell_type": "code",
   "execution_count": null,
   "metadata": {},
   "outputs": [],
   "source": [
    "# Option 1: Naif \n",
    "# Fonctions auxiliaires\n",
    "\n",
    "class NaifPoly:\n",
    "    def __init__(self, Xi, Yi):\n",
    "        # complétez\n",
    "\n",
    "    def __call__(self, x):\n",
    "        # complétez\n",
    "\n",
    "# Option 2: Newton\n",
    "# Fonctions auxiliaires\n",
    "\n",
    "class NewtonPoly:\n",
    "    def __init__(self, Xi, Yi):\n",
    "        # complétez\n",
    "\n",
    "    def __call__(self, x):\n",
    "        # complétez"
   ]
  },
  {
   "cell_type": "markdown",
   "metadata": {},
   "source": [
    "Modèle pour mésurer le temps"
   ]
  },
  {
   "cell_type": "code",
   "execution_count": 21,
   "metadata": {},
   "outputs": [
    {
     "name": "stdout",
     "output_type": "stream",
     "text": [
      "temps: 2.4228003859989258\n"
     ]
    }
   ],
   "source": [
    "from timeit import default_timer as timer\n",
    "start = timer()\n",
    "np.sum(np.random.rand(99999999)**3.4)\n",
    "end = timer()\n",
    "print(\"temps:\", end-start)"
   ]
  },
  {
   "cell_type": "code",
   "execution_count": 31,
   "metadata": {},
   "outputs": [
    {
     "name": "stdout",
     "output_type": "stream",
     "text": [
      "temps Lagrange: 0.48591489699902013\n"
     ]
    }
   ],
   "source": [
    "f = lambda x: np.exp(-x**2)\n",
    "NXi = 50\n",
    "Xi = np.linspace(-1.0,1.0,NXi)\n",
    "Yi = f(Xi)\n",
    "\n",
    "x = np.linspace(np.min(Xi),np.max(Xi), 99999)\n",
    "\n",
    "start = timer()\n",
    "p1 = LagrangePoly(Xi,Yi)\n",
    "y_interp1 = p1(x)\n",
    "end = timer()\n",
    "print(\"temps Lagrange:\", end-start)\n",
    "\n",
    "\n",
    "start = timer()\n",
    "p = NaifPoly(Xi,Yi)\n",
    "y_interp = p(x)\n",
    "end = timer()\n",
    "print(\"temps Lagrange:\", end-start)"
   ]
  },
  {
   "cell_type": "code",
   "execution_count": null,
   "metadata": {},
   "outputs": [],
   "source": []
  }
 ],
 "metadata": {
  "kernelspec": {
   "display_name": "fenicsx-env",
   "language": "python",
   "name": "python3"
  },
  "language_info": {
   "codemirror_mode": {
    "name": "ipython",
    "version": 3
   },
   "file_extension": ".py",
   "mimetype": "text/x-python",
   "name": "python",
   "nbconvert_exporter": "python",
   "pygments_lexer": "ipython3",
   "version": "3.12.2"
  }
 },
 "nbformat": 4,
 "nbformat_minor": 2
}
