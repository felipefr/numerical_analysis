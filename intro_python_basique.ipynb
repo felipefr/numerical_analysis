{
  "nbformat": 4,
  "nbformat_minor": 0,
  "metadata": {
    "colab": {
      "provenance": [],
      "authorship_tag": "ABX9TyPfJYZpsJbfFIVyk+PdAdxv",
      "include_colab_link": true
    },
    "kernelspec": {
      "name": "python3",
      "display_name": "Python 3"
    },
    "language_info": {
      "name": "python"
    }
  },
  "cells": [
    {
      "cell_type": "markdown",
      "metadata": {
        "id": "view-in-github",
        "colab_type": "text"
      },
      "source": [
        "<a href=\"https://colab.research.google.com/github/felipefr/numerical_analysis/blob/main/intro_python_basique.ipynb\" target=\"_parent\"><img src=\"https://colab.research.google.com/assets/colab-badge.svg\" alt=\"Open In Colab\"/></a>"
      ]
    },
    {
      "cell_type": "markdown",
      "source": [
        "**Python basique**"
      ],
      "metadata": {
        "id": "IpLhMfDDXfDl"
      }
    },
    {
      "cell_type": "markdown",
      "source": [
        "1 ) Boucle *for*, affichage avec *print*"
      ],
      "metadata": {
        "id": "1GeCL4TiafvK"
      }
    },
    {
      "cell_type": "code",
      "source": [
        "for i in range(3):\n",
        "  for j in range(1,10,2):\n",
        "    print(\"i, j =\", i, j)"
      ],
      "metadata": {
        "id": "Jy7X3XIXXyBr"
      },
      "execution_count": null,
      "outputs": []
    },
    {
      "cell_type": "markdown",
      "source": [
        "2) Boucle *while*, conditionnels *if*, *else*, commande *break*"
      ],
      "metadata": {
        "id": "8dCaSuRMaotZ"
      }
    },
    {
      "cell_type": "code",
      "execution_count": 21,
      "metadata": {
        "colab": {
          "base_uri": "https://localhost:8080/"
        },
        "id": "IvSdGFKhXdSk",
        "outputId": "ce9e13ed-9107-4a08-85d4-a9be0a8d3913"
      },
      "outputs": [
        {
          "output_type": "stream",
          "name": "stdout",
          "text": [
            "error final =  0.01\n",
            "error =  10.0\n",
            "error =  1.0\n",
            "error =  0.1\n",
            "error final =  0.01\n"
          ]
        }
      ],
      "source": [
        "error = 1e2\n",
        "while error >= 1e-1:\n",
        "  error /= 10\n",
        "\n",
        "print('error final = ', error)\n",
        "\n",
        "error = 1e2\n",
        "while True:\n",
        "  error /= 10\n",
        "  if(error < 1e-1):\n",
        "    break\n",
        "  else:\n",
        "    print('error = ', error)\n",
        "\n",
        "print('error final = ', error)"
      ]
    },
    {
      "cell_type": "markdown",
      "source": [
        "3) Listes []: déclaration liste vide et rempli, liste dans les boucles, accès aux éléments, etc."
      ],
      "metadata": {
        "id": "BWnNJEc7bfZe"
      }
    },
    {
      "cell_type": "code",
      "source": [
        "a = []\n",
        "word = 'hello'\n",
        "for s in word:\n",
        "  a.append(s)\n",
        "\n",
        "print(a, a[0]+a[1] + a[2] + a[3] + a[4])\n",
        "\n",
        "v = [1.2, 5.8, 3.0]\n",
        "s = 0.\n",
        "for vi in v:\n",
        "  s += vi\n",
        "\n",
        "print('s == sum(v) ? {0}=={1} {2}', s, sum(v), s, s == sum(v) )\n"
      ],
      "metadata": {
        "colab": {
          "base_uri": "https://localhost:8080/"
        },
        "id": "FrZPDnVdYDPv",
        "outputId": "7eb44489-c4aa-4ae7-ac24-7f495b467429"
      },
      "execution_count": 22,
      "outputs": [
        {
          "output_type": "stream",
          "name": "stdout",
          "text": [
            "['h', 'e', 'l', 'l', 'o'] hello\n",
            "s == sum(v) ? {0}=={1} {2} 10.0 10.0 10.0 True\n"
          ]
        }
      ]
    },
    {
      "cell_type": "markdown",
      "source": [
        "4) Déclaration d'une fonction, en particulier recursive."
      ],
      "metadata": {
        "id": "ui1PdrF1cfGC"
      }
    },
    {
      "cell_type": "code",
      "source": [
        "def fibonnacci(n):\n",
        "    if n==0:\n",
        "        return 0\n",
        "    elif n==1:\n",
        "        return 1\n",
        "    else:\n",
        "        return fibonnacci(n-1)+fibonnacci(n-2)"
      ],
      "metadata": {
        "id": "3hJ9LT8lYiQF"
      },
      "execution_count": 16,
      "outputs": []
    },
    {
      "cell_type": "markdown",
      "source": [
        "5) Utilisation d'une fonction crée et création d'un liste dans une seule ligne avec for"
      ],
      "metadata": {
        "id": "Tbb-AmhRcq97"
      }
    },
    {
      "cell_type": "code",
      "source": [
        "print([fibonnacci(i) for i in range(10)])"
      ],
      "metadata": {
        "colab": {
          "base_uri": "https://localhost:8080/"
        },
        "id": "u1l8j2ToaGe5",
        "outputId": "670f0d1c-8238-4503-c022-7a320f3a923a"
      },
      "execution_count": 18,
      "outputs": [
        {
          "output_type": "stream",
          "name": "stdout",
          "text": [
            "[0, 1, 1, 2, 3, 5, 8, 13, 21, 34]\n"
          ]
        }
      ]
    },
    {
      "cell_type": "code",
      "source": [],
      "metadata": {
        "id": "tJi0yovJaTFc"
      },
      "execution_count": null,
      "outputs": []
    }
  ]
}