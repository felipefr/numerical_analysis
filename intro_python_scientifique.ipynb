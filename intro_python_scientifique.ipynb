{
  "nbformat": 4,
  "nbformat_minor": 0,
  "metadata": {
    "colab": {
      "provenance": [],
      "authorship_tag": "ABX9TyNUbLPn4r53t3y7Bzibjz/9",
      "include_colab_link": true
    },
    "kernelspec": {
      "name": "python3",
      "display_name": "Python 3"
    },
    "language_info": {
      "name": "python"
    }
  },
  "cells": [
    {
      "cell_type": "markdown",
      "metadata": {
        "id": "view-in-github",
        "colab_type": "text"
      },
      "source": [
        "<a href=\"https://colab.research.google.com/github/felipefr/numerical_analysis/blob/main/intro_python_scientifique.ipynb\" target=\"_parent\"><img src=\"https://colab.research.google.com/assets/colab-badge.svg\" alt=\"Open In Colab\"/></a>"
      ]
    },
    {
      "cell_type": "code",
      "execution_count": null,
      "metadata": {
        "id": "SHi80NBIkMOD"
      },
      "outputs": [],
      "source": [
        "import numpy as np\n",
        "import scipy as sp\n",
        "import math\n",
        "from matplotlib import pyplot as plt"
      ]
    },
    {
      "cell_type": "markdown",
      "source": [
        "**Numpy**: Le principale interêt c'est de faire de l'algèbre linaire numérique. Voici quelques opérations simples."
      ],
      "metadata": {
        "id": "re9v0DWqsfaQ"
      }
    },
    {
      "cell_type": "code",
      "source": [
        "a = np.array([2,3,8])\n",
        "b = np.array([-1,2,0])\n",
        "print(\"a=\", a)\n",
        "print(\"b=\", b)\n",
        "print(\"dot product a dot b = \", np.dot(a,b))\n",
        "print(\"norm of a = \", np.linalg.norm(a), np.sqrt(np.dot(a,a)))\n",
        "\n",
        "A = np.array([[1,2,3],[4,5,6],[7,8,9]])\n",
        "print(\"A=\\n\", A)\n",
        "print(\"somme premier ligne:\", np.sum(A[0,:]))\n",
        "print(\"somme deuxieme colonne:\", np.sum(A[:,1]))\n",
        "print(\"somme par lignes:\", np.sum(A, axis = 1))\n",
        "print(\"somme par columns:\", np.sum(A, axis = 0))\n",
        "\n",
        "\n",
        "B = np.random.rand(9).reshape((3,3))\n",
        "Binv = np.linalg.inv(B)\n",
        "print(\"B=\\n\", B)\n",
        "print(\"B^-1=\\n\", Binv)\n",
        "print(\"|| B * B^-1  - I ||  = \", np.linalg.norm(B@Binv - np.eye(3)))\n",
        "print(\"|| B^-1 * B   - I ||  = \", np.linalg.norm(Binv@B - np.eye(3)))\n",
        "\n",
        "f = np.ones(3)\n",
        "print(\"f=\", f)\n",
        "print(\"resolution B x = f :\", Binv@f, np.linalg.solve(B, f) )"
      ],
      "metadata": {
        "id": "F2T4_ShAqJkx"
      },
      "execution_count": null,
      "outputs": []
    },
    {
      "cell_type": "markdown",
      "source": [
        "**Matplotlib** : Très il nous faudra plotter des fonctions. On utilise Matplotlib en combination avec du Numpy pour cela. Noter que les fonctions Numpy sont appliqués elément par elément dans une array/vector/matrice."
      ],
      "metadata": {
        "id": "uO04iMlFtQAP"
      }
    },
    {
      "cell_type": "code",
      "source": [
        "z = np.zeros(20)\n",
        "x = np.zeros(20)\n",
        "for i in range(20):\n",
        "  x[i] = i*math.pi/4\n",
        "  z[i] = math.cos(x[i])\n",
        "\n",
        "plt.plot(x, z, 'b-o', label = 'cos(x) grossier')\n",
        "\n",
        "x = np.linspace(x[0], x[-1], 100)\n",
        "plt.plot(x, np.cos(x), 'r-x', label = 'cos(x) fine')\n",
        "\n",
        "plt.legend()\n",
        "plt.grid()"
      ],
      "metadata": {
        "id": "DA0jlRQckYtg"
      },
      "execution_count": null,
      "outputs": []
    },
    {
      "cell_type": "markdown",
      "source": [
        "**L'écriture et lecture des fichers**: se fait facilement avec du Numpy pour des fichiers texte et du Matplotlib pour des images"
      ],
      "metadata": {
        "id": "cBfb_Tkm55Dl"
      }
    },
    {
      "cell_type": "code",
      "source": [
        "# création données experimentales\n",
        "X = np.array([1.0,1.2,3.5,3.2,9.2,5.6,7.1,1.5,8.9,4.5])\n",
        "Y = np.exp(0.1*np.sqrt(X)) + X**3 - 4*X**2 +  100*np.random.rand(len(X))\n",
        "np.savetxt('test.txt', np.concatenate((X.reshape(-1,1),Y.reshape(-1,1)), axis = 1))\n",
        "\n",
        "# lecture données experimentales\n",
        "XYread = np.loadtxt('test.txt')\n",
        "\n",
        "plt.figure(figsize = (10,5))\n",
        "plt.suptitle('Données experimentales') # titre s'il n'y a pas des subplots\n",
        "plt.subplot(1,2,1)\n",
        "plt.plot(XYread[:,0], XYread[:,1], 'o')\n",
        "plt.grid()\n",
        "plt.xlabel('X')\n",
        "plt.ylabel('Y')\n",
        "\n",
        "plt.subplot(1,2,2)\n",
        "plt.plot(XYread[:,0], XYread[:,1], 'o')\n",
        "plt.grid()\n",
        "plt.xlabel('X')\n",
        "plt.ylabel('Y (log scale)')\n",
        "plt.yscale('log')\n",
        "\n",
        "plt.savefig('test.png')\n",
        "plt.savefig('test.pdf')"
      ],
      "metadata": {
        "id": "tZNEdU0l6O6L"
      },
      "execution_count": null,
      "outputs": []
    },
    {
      "cell_type": "markdown",
      "source": [
        "**Scipy**: Si vous ne trouvez pas les méthodes numériques que vous cherchez sur Numpy? problablement il est sur Scipy. Par example une fonction très spécifique pour nous fournir le polynôme d'interpolation du type Lagrange"
      ],
      "metadata": {
        "id": "EQahvjMyt58G"
      }
    },
    {
      "cell_type": "code",
      "source": [
        "lag_points = [0,0.5,1.0]\n",
        "L0 = sp.interpolate.lagrange(lag_points,[1,0,0])\n",
        "L1 = sp.interpolate.lagrange(lag_points,[0,1,0])\n",
        "L2 = sp.interpolate.lagrange(lag_points,[0,0,1])\n",
        "\n",
        "x = np.linspace(0.0,1.0,100)\n",
        "plt.plot(x, L0(x), label = 'L0')\n",
        "plt.plot(x, L1(x), label = 'L1')\n",
        "plt.plot(x, L2(x), label = 'L2')\n",
        "plt.grid()\n",
        "plt.legend()"
      ],
      "metadata": {
        "id": "Dlheu8B3krZt"
      },
      "execution_count": null,
      "outputs": []
    },
    {
      "cell_type": "code",
      "source": [],
      "metadata": {
        "id": "v6qli2plno7F"
      },
      "execution_count": null,
      "outputs": []
    }
  ]
}