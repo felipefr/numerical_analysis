{
  "nbformat": 4,
  "nbformat_minor": 0,
  "metadata": {
    "colab": {
      "provenance": [],
      "authorship_tag": "ABX9TyP2U7T9AyRdY1E2HvnMi6TX",
      "include_colab_link": true
    },
    "kernelspec": {
      "name": "python3",
      "display_name": "Python 3"
    },
    "language_info": {
      "name": "python"
    }
  },
  "cells": [
    {
      "cell_type": "markdown",
      "metadata": {
        "id": "view-in-github",
        "colab_type": "text"
      },
      "source": [
        "<a href=\"https://colab.research.google.com/github/felipefr/numerical_analysis/blob/main/NumRepres_Ex1_MachineEpsilon.ipynb\" target=\"_parent\"><img src=\"https://colab.research.google.com/assets/colab-badge.svg\" alt=\"Open In Colab\"/></a>"
      ]
    },
    {
      "cell_type": "markdown",
      "source": [
        "**Computing the Machine Epsilon**\n",
        "\n",
        "idea: decrease eps until 1 + eps = 1 (in the machine precision setting)\n"
      ],
      "metadata": {
        "id": "Q6wUO27Esx68"
      }
    },
    {
      "cell_type": "code",
      "execution_count": null,
      "metadata": {
        "colab": {
          "base_uri": "https://localhost:8080/"
        },
        "id": "gf55GXzspTxW",
        "outputId": "4489af38-f635-4b78-88b3-3bf41c36757e"
      },
      "outputs": [
        {
          "output_type": "stream",
          "name": "stdout",
          "text": [
            "Machine epsilon / double precision :  2.220446049250313e-16\n"
          ]
        }
      ],
      "source": [
        "eps=1.\n",
        "un_plus_eps=1.+eps;\n",
        "\n",
        "c = 2.;\n",
        "\n",
        "while un_plus_eps>1:\n",
        "    eps=eps/c;\n",
        "    un_plus_eps = 1+eps\n",
        "\n",
        "eps_d=eps*c\n",
        "\n",
        "print('Machine epsilon / double precision : ', eps_d)"
      ]
    },
    {
      "cell_type": "markdown",
      "source": [
        "Par défaut, Python travaille avec précision double. Pour convertir en précision simple on a besoin d'utiliser *numpy.single*"
      ],
      "metadata": {
        "id": "cG8w0q7Gs_wi"
      }
    },
    {
      "cell_type": "code",
      "source": [
        "import numpy as np\n",
        "eps=np.single(1.0)\n",
        "un_plus_eps=np.single(1+eps)\n",
        "c = np.single(2.)\n",
        "\n",
        "while un_plus_eps>1:\n",
        "    eps=np.single(eps/c);\n",
        "    un_plus_eps = np.single(1+eps)\n",
        "\n",
        "eps_s=np.single(eps*c)\n",
        "print('Machine epsilon / simple precision : ', eps_s)"
      ],
      "metadata": {
        "colab": {
          "base_uri": "https://localhost:8080/"
        },
        "id": "3JRr1TyLqtD9",
        "outputId": "79f4695d-d701-4ea8-a103-47a04b5509ba"
      },
      "execution_count": null,
      "outputs": [
        {
          "output_type": "stream",
          "name": "stdout",
          "text": [
            "Machine epsilon / simple precision :  1.1920929e-07\n"
          ]
        }
      ]
    },
    {
      "cell_type": "code",
      "source": [],
      "metadata": {
        "id": "-MSYGKAptRFI"
      },
      "execution_count": null,
      "outputs": []
    }
  ]
}