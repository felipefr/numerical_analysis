{
  "nbformat": 4,
  "nbformat_minor": 0,
  "metadata": {
    "colab": {
      "provenance": [],
      "authorship_tag": "ABX9TyPeWeDBl2jaSNu2Nk62o7vG",
      "include_colab_link": true
    },
    "kernelspec": {
      "name": "python3",
      "display_name": "Python 3"
    },
    "language_info": {
      "name": "python"
    }
  },
  "cells": [
    {
      "cell_type": "markdown",
      "metadata": {
        "id": "view-in-github",
        "colab_type": "text"
      },
      "source": [
        "<a href=\"https://colab.research.google.com/github/felipefr/numerical_analysis/blob/main/NumRepres_Ex2_SingleDouble.ipynb\" target=\"_parent\"><img src=\"https://colab.research.google.com/assets/colab-badge.svg\" alt=\"Open In Colab\"/></a>"
      ]
    },
    {
      "cell_type": "markdown",
      "source": [
        "$exp(A) = I + A + \\frac{A^2}{2!} + ... + \\frac{A^N}{N!}$"
      ],
      "metadata": {
        "id": "bbSFO3_gvm7n"
      }
    },
    {
      "cell_type": "code",
      "source": [
        "import numpy as np\n",
        "import math\n",
        "\n",
        "def exp_series(A, N):\n",
        "  expA = np.eye(A.shape[0])\n",
        "  for i in range(1, N+1):\n",
        "    expA = expA + np.linalg.matrix_power(A, i) / math.factorial(i)\n",
        "\n",
        "  return expA"
      ],
      "metadata": {
        "id": "mw-hJN3uvlDx"
      },
      "execution_count": null,
      "outputs": []
    },
    {
      "cell_type": "code",
      "execution_count": null,
      "metadata": {
        "colab": {
          "base_uri": "https://localhost:8080/"
        },
        "id": "_HusFEQqt70G",
        "outputId": "d87cb31a-f085-4234-dded-7bcd6cc697da"
      },
      "outputs": [
        {
          "output_type": "stream",
          "name": "stdout",
          "text": [
            "expA (i=1) = \n",
            "[[-48.  24.]\n",
            " [-64.  32.]]\n",
            "expA (i=11) = \n",
            "[[-1541251.8193969    770626.09363817]\n",
            " [-2055002.91636845  1027501.82606366]]\n",
            "expA (i=21) = \n",
            "[[-1788349.7624379992 894175.0651587208]\n",
            " [-2384466.8404232515 1192233.7880910663]]\n",
            "expA (i=31) = \n",
            "[[-17756.309546437667 8878.33871294068]\n",
            " [-23675.56990117028 11838.152830026265]]\n",
            "expA (i=41) = \n",
            "[[-8.027068733727347 4.197474088714856]\n",
            " [-11.193264231719375 5.964511556986523]]\n",
            "expA (i=51) = \n",
            "[[-0.7360294710276579 0.5519544573650152]\n",
            " [-1.471878548119786 1.1038187151867347]]\n",
            "expA (i=61) = \n",
            "[[-0.7357587570773017 0.5518191003898372]\n",
            " [-1.4715175961859774 1.1036382392198305]]\n",
            "expA (i=71) = \n",
            "[[-0.7357587556218489 0.5518190996621108]\n",
            " [-1.4715175942453735 1.1036382382495284]]\n"
          ]
        }
      ],
      "source": [
        "A = np.array([[-49., 24.], [-64., 31.]], dtype = 'float64')\n",
        "\n",
        "N=80\n",
        "for i in range(1,N,10):\n",
        "  print(\"expA (i=%d) = \"%i)\n",
        "  print(exp_series(A, i))\n"
      ]
    },
    {
      "cell_type": "code",
      "source": [
        "A = np.array([[-49., 24.], [-64., 31.]], dtype = 'float32')\n",
        "\n",
        "N=60\n",
        "for i in range(1,N,10):\n",
        "  print(\"expA (i=%d) = \"%i)\n",
        "  print(exp_series(A, i))"
      ],
      "metadata": {
        "colab": {
          "base_uri": "https://localhost:8080/"
        },
        "id": "E57yQN8cvf71",
        "outputId": "cb729c3e-0975-4f6d-8795-5d73ce2559ce"
      },
      "execution_count": null,
      "outputs": [
        {
          "output_type": "stream",
          "name": "stdout",
          "text": [
            "expA (i=1) = \n",
            "[[-48.  24.]\n",
            " [-64.  32.]]\n",
            "expA (i=11) = \n",
            "[[-1541251.32523448   770625.93799115]\n",
            " [-2055002.56967185  1027501.82142358]]\n",
            "expA (i=21) = \n",
            "[[-1788345.0575370616 894173.2151528583]\n",
            " [-2384459.645723545 1192229.0446993737]]\n",
            "expA (i=31) = \n",
            "[[-inf inf]\n",
            " [-inf inf]]\n",
            "expA (i=41) = \n",
            "[[nan nan]\n",
            " [nan nan]]\n",
            "expA (i=51) = \n",
            "[[nan nan]\n",
            " [nan nan]]\n"
          ]
        },
        {
          "output_type": "stream",
          "name": "stderr",
          "text": [
            "/usr/local/lib/python3.10/dist-packages/numpy/linalg/linalg.py:680: RuntimeWarning: overflow encountered in matmul\n",
            "  result = z if result is None else fmatmul(result, z)\n",
            "/usr/local/lib/python3.10/dist-packages/numpy/linalg/linalg.py:677: RuntimeWarning: overflow encountered in matmul\n",
            "  z = a if z is None else fmatmul(z, z)\n",
            "<ipython-input-72-85b3c18adcde>:7: RuntimeWarning: invalid value encountered in add\n",
            "  expA = expA + np.linalg.matrix_power(A, i) / math.factorial(i)\n",
            "/usr/local/lib/python3.10/dist-packages/numpy/linalg/linalg.py:680: RuntimeWarning: invalid value encountered in matmul\n",
            "  result = z if result is None else fmatmul(result, z)\n"
          ]
        }
      ]
    },
    {
      "cell_type": "markdown",
      "source": [
        "Par décomposition aux valeurs propres : $\\exp(A) = V \\exp(D) V^{-1}$"
      ],
      "metadata": {
        "id": "Ylr052Va6s9D"
      }
    },
    {
      "cell_type": "code",
      "source": [
        "A = np.array([[-49., 24.], [-64., 31.]], dtype = 'float32')\n",
        "D,V = np.linalg.eig(A)\n",
        "print(\"V = \", V)\n",
        "print(\"D = \", D)\n",
        "eA = V@np.diag([np.exp(D[0]),np.exp(D[1])])@np.linalg.inv(V)\n",
        "print(\"eA = \", eA)"
      ],
      "metadata": {
        "colab": {
          "base_uri": "https://localhost:8080/"
        },
        "id": "xJzvljMo04ev",
        "outputId": "ef831693-0def-4310-a1b9-528051c50453"
      },
      "execution_count": null,
      "outputs": [
        {
          "output_type": "stream",
          "name": "stdout",
          "text": [
            "V =  [[-0.6       -0.4472136]\n",
            " [-0.8       -0.8944272]]\n",
            "D =  [-17.  -1.]\n",
            "eA =  [[-0.73575866  0.5518191 ]\n",
            " [-1.4715174   1.1036382 ]]\n"
          ]
        }
      ]
    },
    {
      "cell_type": "code",
      "source": [],
      "metadata": {
        "id": "oNjJ4Yr34hRK"
      },
      "execution_count": null,
      "outputs": []
    }
  ]
}