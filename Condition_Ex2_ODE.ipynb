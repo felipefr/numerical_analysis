{
  "nbformat": 4,
  "nbformat_minor": 0,
  "metadata": {
    "colab": {
      "provenance": []
    },
    "kernelspec": {
      "name": "python3",
      "display_name": "Python 3"
    },
    "language_info": {
      "name": "python"
    }
  },
  "cells": [
    {
      "cell_type": "code",
      "execution_count": 8,
      "metadata": {
        "id": "wA7_TKP43U01"
      },
      "outputs": [],
      "source": [
        "import numpy as np\n",
        "from scipy.integrate import solve_ivp\n",
        "import matplotlib.pyplot as plt"
      ]
    },
    {
      "cell_type": "code",
      "source": [
        "def odefunc(t, y):\n",
        "    # Define your ODE function here\n",
        "    # This is a placeholder, replace with your actual ODE\n",
        "    return -y\n",
        "\n",
        "eps = 1e-10\n",
        "\n",
        "xlim = 7\n",
        "y0 = np.pi"
      ],
      "metadata": {
        "id": "O8cxvYfk5gTT"
      },
      "execution_count": 13,
      "outputs": []
    },
    {
      "cell_type": "code",
      "source": [
        "sol = solve_ivp(odefunc, [0, xlim], [y0], dense_output=True)\n",
        "sol1 = solve_ivp(odefunc, [0, xlim], [y0 + eps], dense_output=True)\n",
        "sol2 = solve_ivp(odefunc, [0, xlim], [y0 - eps], dense_output=True)\n",
        "\n",
        "x = np.linspace(0, xlim, 1000)\n",
        "y = sol.sol(x)[0]\n",
        "y1 = sol1.sol(x)[0]\n",
        "y2 = sol2.sol(x)[0]\n"
      ],
      "metadata": {
        "id": "2FvLnTaG5oqJ"
      },
      "execution_count": 14,
      "outputs": []
    },
    {
      "cell_type": "code",
      "source": [
        "plt.figure()\n",
        "\n",
        "plt.plot(x, y, 'b', linewidth=5)\n",
        "plt.plot(x, y1, 'r', linewidth=3)\n",
        "plt.plot(x, y2, 'm', linewidth=3)\n",
        "\n",
        "# plt.yscale('log')\n",
        "# plt.ylim(1e-7, 1e14)\n",
        "\n",
        "plt.ylim(0, 1e1)\n",
        "\n",
        "plt.show()\n",
        "\n"
      ],
      "metadata": {
        "colab": {
          "base_uri": "https://localhost:8080/",
          "height": 435
        },
        "id": "Ylr95kn17yjJ",
        "outputId": "fdefc082-a72b-471f-fe52-0d0e75c54d20"
      },
      "execution_count": 15,
      "outputs": [
        {
          "output_type": "display_data",
          "data": {
            "text/plain": [
              "<Figure size 640x480 with 1 Axes>"
            ],
            "image/png": "[encoded data removed]"
          },
          "metadata": {}
        }
      ]
    }
  ]
}