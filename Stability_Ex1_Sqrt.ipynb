{
  "nbformat": 4,
  "nbformat_minor": 0,
  "metadata": {
    "colab": {
      "provenance": [],
      "authorship_tag": "ABX9TyPiGbm7uhByO2xeabyum1iF",
      "include_colab_link": true
    },
    "kernelspec": {
      "name": "python3",
      "display_name": "Python 3"
    },
    "language_info": {
      "name": "python"
    }
  },
  "cells": [
    {
      "cell_type": "markdown",
      "metadata": {
        "id": "view-in-github",
        "colab_type": "text"
      },
      "source": [
        "<a href=\"https://colab.research.google.com/github/felipefr/numerical_analysis/blob/main/Stability_Ex1_Sqrt.ipynb\" target=\"_parent\"><img src=\"https://colab.research.google.com/assets/colab-badge.svg\" alt=\"Open In Colab\"/></a>"
      ]
    },
    {
      "cell_type": "code",
      "execution_count": null,
      "metadata": {
        "id": "UNrPNnWd_EmL"
      },
      "outputs": [],
      "source": [
        "import numpy as np\n",
        "import matplotlib.pyplot as plt\n",
        "\n",
        "N = 20;\n",
        "\n",
        "x = np.logspace(1,N,N);\n",
        "\n",
        "y1 = x * (np.sqrt(x+1) - np.sqrt(x))\n",
        "y2 = x / (np.sqrt(x+1) + np.sqrt(x))\n",
        "y3 = 1 / ((np.sqrt(x+1) + np.sqrt(x)) / x )\n",
        "\n",
        "plt.plot(x,y1,'-')\n",
        "plt.plot(x,y2,'o')\n",
        "plt.plot(x,y3,'+')\n",
        "plt.legend(['y1', 'y2', 'y3'])\n",
        "plt.xscale('log')\n",
        "plt.yscale('log')\n",
        "plt.grid()"
      ]
    },
    {
      "cell_type": "code",
      "source": [
        "err12 = np.abs(y1-y2)\n",
        "err13 = np.abs(y1-y3)\n",
        "err32 = np.abs(y3-y2)\n",
        "\n",
        "plt.plot(x,err12,'-')\n",
        "plt.plot(x,err13,'+')\n",
        "plt.plot(x,err32,'o')\n",
        "plt.legend(['y1-y2', 'y1-y3', 'y3-y2'])\n",
        "plt.grid()\n",
        "plt.xscale('log')\n",
        "plt.yscale('log')"
      ],
      "metadata": {
        "id": "MlnRuHz3_xC4"
      },
      "execution_count": null,
      "outputs": []
    },
    {
      "cell_type": "code",
      "source": [],
      "metadata": {
        "id": "bS04LvhUAL1W"
      },
      "execution_count": null,
      "outputs": []
    }
  ]
}